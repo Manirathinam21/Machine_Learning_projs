{
 "cells": [
  {
   "cell_type": "code",
   "execution_count": 1,
   "metadata": {},
   "outputs": [],
   "source": [
    "import pandas as pd"
   ]
  },
  {
   "cell_type": "code",
   "execution_count": 2,
   "metadata": {},
   "outputs": [],
   "source": [
    "data=pd.read_csv(\"D:\\\\Downloads\\\\stock_market_index.csv\")"
   ]
  },
  {
   "cell_type": "code",
   "execution_count": 12,
   "metadata": {},
   "outputs": [
    {
     "data": {
      "text/html": [
       "<div>\n",
       "<style scoped>\n",
       "    .dataframe tbody tr th:only-of-type {\n",
       "        vertical-align: middle;\n",
       "    }\n",
       "\n",
       "    .dataframe tbody tr th {\n",
       "        vertical-align: top;\n",
       "    }\n",
       "\n",
       "    .dataframe thead th {\n",
       "        text-align: right;\n",
       "    }\n",
       "</style>\n",
       "<table border=\"1\" class=\"dataframe\">\n",
       "  <thead>\n",
       "    <tr style=\"text-align: right;\">\n",
       "      <th></th>\n",
       "      <th>Unnamed: 0</th>\n",
       "      <th>Year</th>\n",
       "      <th>Month</th>\n",
       "      <th>Interest_Rate</th>\n",
       "      <th>Unemployment_Rate</th>\n",
       "      <th>Stock_Index_Price</th>\n",
       "    </tr>\n",
       "  </thead>\n",
       "  <tbody>\n",
       "    <tr>\n",
       "      <td>0</td>\n",
       "      <td>0</td>\n",
       "      <td>2017</td>\n",
       "      <td>12</td>\n",
       "      <td>2.75</td>\n",
       "      <td>5.3</td>\n",
       "      <td>1464</td>\n",
       "    </tr>\n",
       "    <tr>\n",
       "      <td>1</td>\n",
       "      <td>1</td>\n",
       "      <td>2017</td>\n",
       "      <td>11</td>\n",
       "      <td>2.50</td>\n",
       "      <td>5.3</td>\n",
       "      <td>1394</td>\n",
       "    </tr>\n",
       "    <tr>\n",
       "      <td>2</td>\n",
       "      <td>2</td>\n",
       "      <td>2017</td>\n",
       "      <td>10</td>\n",
       "      <td>2.50</td>\n",
       "      <td>5.3</td>\n",
       "      <td>1357</td>\n",
       "    </tr>\n",
       "    <tr>\n",
       "      <td>3</td>\n",
       "      <td>3</td>\n",
       "      <td>2017</td>\n",
       "      <td>9</td>\n",
       "      <td>2.50</td>\n",
       "      <td>5.3</td>\n",
       "      <td>1293</td>\n",
       "    </tr>\n",
       "    <tr>\n",
       "      <td>4</td>\n",
       "      <td>4</td>\n",
       "      <td>2017</td>\n",
       "      <td>8</td>\n",
       "      <td>2.50</td>\n",
       "      <td>5.4</td>\n",
       "      <td>1256</td>\n",
       "    </tr>\n",
       "  </tbody>\n",
       "</table>\n",
       "</div>"
      ],
      "text/plain": [
       "   Unnamed: 0  Year  Month  Interest_Rate  Unemployment_Rate  \\\n",
       "0           0  2017     12           2.75                5.3   \n",
       "1           1  2017     11           2.50                5.3   \n",
       "2           2  2017     10           2.50                5.3   \n",
       "3           3  2017      9           2.50                5.3   \n",
       "4           4  2017      8           2.50                5.4   \n",
       "\n",
       "   Stock_Index_Price  \n",
       "0               1464  \n",
       "1               1394  \n",
       "2               1357  \n",
       "3               1293  \n",
       "4               1256  "
      ]
     },
     "execution_count": 12,
     "metadata": {},
     "output_type": "execute_result"
    }
   ],
   "source": [
    "data.head()"
   ]
  },
  {
   "cell_type": "code",
   "execution_count": 3,
   "metadata": {},
   "outputs": [],
   "source": [
    "from sklearn.model_selection import train_test_split"
   ]
  },
  {
   "cell_type": "code",
   "execution_count": 4,
   "metadata": {},
   "outputs": [],
   "source": [
    "x=data[['Interest_Rate','Unemployment_Rate']]"
   ]
  },
  {
   "cell_type": "code",
   "execution_count": 5,
   "metadata": {},
   "outputs": [],
   "source": [
    "y=data['Stock_Index_Price']"
   ]
  },
  {
   "cell_type": "code",
   "execution_count": 11,
   "metadata": {},
   "outputs": [],
   "source": [
    "train_x,test_x,train_y,test_y=train_test_split(x,y,test_size=0.2)"
   ]
  },
  {
   "cell_type": "code",
   "execution_count": 10,
   "metadata": {},
   "outputs": [
    {
     "data": {
      "text/plain": [
       "(20, 2)"
      ]
     },
     "execution_count": 10,
     "metadata": {},
     "output_type": "execute_result"
    }
   ],
   "source": [
    "train_y.shape"
   ]
  },
  {
   "cell_type": "code",
   "execution_count": 13,
   "metadata": {},
   "outputs": [],
   "source": [
    "from sklearn.linear_model import LinearRegression"
   ]
  },
  {
   "cell_type": "code",
   "execution_count": 14,
   "metadata": {},
   "outputs": [],
   "source": [
    "model=LinearRegression()"
   ]
  },
  {
   "cell_type": "code",
   "execution_count": 15,
   "metadata": {},
   "outputs": [
    {
     "data": {
      "text/plain": [
       "LinearRegression(copy_X=True, fit_intercept=True, n_jobs=None, normalize=False)"
      ]
     },
     "execution_count": 15,
     "metadata": {},
     "output_type": "execute_result"
    }
   ],
   "source": [
    "model.fit(train_x,train_y)"
   ]
  },
  {
   "cell_type": "code",
   "execution_count": 17,
   "metadata": {},
   "outputs": [],
   "source": [
    "y_pred=model.predict(test_x)"
   ]
  },
  {
   "cell_type": "code",
   "execution_count": 18,
   "metadata": {},
   "outputs": [
    {
     "data": {
      "text/html": [
       "<div>\n",
       "<style scoped>\n",
       "    .dataframe tbody tr th:only-of-type {\n",
       "        vertical-align: middle;\n",
       "    }\n",
       "\n",
       "    .dataframe tbody tr th {\n",
       "        vertical-align: top;\n",
       "    }\n",
       "\n",
       "    .dataframe thead th {\n",
       "        text-align: right;\n",
       "    }\n",
       "</style>\n",
       "<table border=\"1\" class=\"dataframe\">\n",
       "  <thead>\n",
       "    <tr style=\"text-align: right;\">\n",
       "      <th></th>\n",
       "      <th>actual</th>\n",
       "      <th>predicted</th>\n",
       "    </tr>\n",
       "  </thead>\n",
       "  <tbody>\n",
       "    <tr>\n",
       "      <td>12</td>\n",
       "      <td>1047</td>\n",
       "      <td>978.980942</td>\n",
       "    </tr>\n",
       "    <tr>\n",
       "      <td>7</td>\n",
       "      <td>1195</td>\n",
       "      <td>1204.708323</td>\n",
       "    </tr>\n",
       "    <tr>\n",
       "      <td>20</td>\n",
       "      <td>876</td>\n",
       "      <td>937.252469</td>\n",
       "    </tr>\n",
       "    <tr>\n",
       "      <td>18</td>\n",
       "      <td>884</td>\n",
       "      <td>875.919500</td>\n",
       "    </tr>\n",
       "    <tr>\n",
       "      <td>2</td>\n",
       "      <td>1357</td>\n",
       "      <td>1338.436250</td>\n",
       "    </tr>\n",
       "  </tbody>\n",
       "</table>\n",
       "</div>"
      ],
      "text/plain": [
       "    actual    predicted\n",
       "12    1047   978.980942\n",
       "7     1195  1204.708323\n",
       "20     876   937.252469\n",
       "18     884   875.919500\n",
       "2     1357  1338.436250"
      ]
     },
     "execution_count": 18,
     "metadata": {},
     "output_type": "execute_result"
    }
   ],
   "source": [
    "pd.DataFrame({'actual':test_y,'predicted':y_pred})"
   ]
  },
  {
   "cell_type": "code",
   "execution_count": 19,
   "metadata": {},
   "outputs": [],
   "source": [
    "from sklearn.metrics import mean_absolute_error, mean_squared_error"
   ]
  },
  {
   "cell_type": "code",
   "execution_count": 20,
   "metadata": {},
   "outputs": [
    {
     "name": "stdout",
     "output_type": "stream",
     "text": [
      "1776.5232122961957\n"
     ]
    }
   ],
   "source": [
    "mse = mean_squared_error(test_y, y_pred)\n",
    "print(mse)"
   ]
  },
  {
   "cell_type": "code",
   "execution_count": 23,
   "metadata": {},
   "outputs": [
    {
     "name": "stdout",
     "output_type": "stream",
     "text": [
      "33.124820090327056\n"
     ]
    }
   ],
   "source": [
    "mae = mean_absolute_error(test_y, y_pred)\n",
    "print(mae)"
   ]
  },
  {
   "cell_type": "code",
   "execution_count": 25,
   "metadata": {},
   "outputs": [
    {
     "data": {
      "text/plain": [
       "0.9479754100328632"
      ]
     },
     "execution_count": 25,
     "metadata": {},
     "output_type": "execute_result"
    }
   ],
   "source": [
    "model.score(test_x, test_y)"
   ]
  },
  {
   "cell_type": "code",
   "execution_count": 37,
   "metadata": {},
   "outputs": [],
   "source": [
    "from sklearn.preprocessing import Normalizer, minmax_scale"
   ]
  },
  {
   "cell_type": "code",
   "execution_count": 43,
   "metadata": {},
   "outputs": [
    {
     "ename": "TypeError",
     "evalue": "fit_transform() missing 1 required positional argument: 'X'",
     "output_type": "error",
     "traceback": [
      "\u001b[1;31m---------------------------------------------------------------------------\u001b[0m",
      "\u001b[1;31mTypeError\u001b[0m                                 Traceback (most recent call last)",
      "\u001b[1;32m<ipython-input-43-5fb3e3373140>\u001b[0m in \u001b[0;36m<module>\u001b[1;34m\u001b[0m\n\u001b[1;32m----> 1\u001b[1;33m \u001b[0mNormalizer\u001b[0m\u001b[1;33m.\u001b[0m\u001b[0mfit_transform\u001b[0m\u001b[1;33m(\u001b[0m\u001b[0mdata\u001b[0m\u001b[1;33m[\u001b[0m\u001b[1;34m'Stock_Index_Price'\u001b[0m\u001b[1;33m]\u001b[0m\u001b[1;33m)\u001b[0m\u001b[1;33m\u001b[0m\u001b[1;33m\u001b[0m\u001b[0m\n\u001b[0m",
      "\u001b[1;31mTypeError\u001b[0m: fit_transform() missing 1 required positional argument: 'X'"
     ]
    }
   ],
   "source": [
    "Normalizer.fit_transform(data['Stock_Index_Price'])"
   ]
  },
  {
   "cell_type": "code",
   "execution_count": 46,
   "metadata": {},
   "outputs": [
    {
     "data": {
      "text/plain": [
       "array([[0.0018784 , 0.00362019, 0.99999168],\n",
       "       [0.00179338, 0.00380198, 0.99999116],\n",
       "       [0.00184228, 0.00390564, 0.99999068],\n",
       "       [0.00193347, 0.00409895, 0.99998973],\n",
       "       [0.00199042, 0.00429931, 0.99998878],\n",
       "       [0.0019936 , 0.00446566, 0.99998804],\n",
       "       [0.00202591, 0.004457  , 0.99998802],\n",
       "       [0.00188282, 0.00460245, 0.99998764],\n",
       "       [0.0019413 , 0.00474541, 0.99998686],\n",
       "       [0.00192799, 0.00479856, 0.99998663],\n",
       "       [0.00176989, 0.00504418, 0.99998571],\n",
       "       [0.00186043, 0.00548828, 0.99998321],\n",
       "       [0.00191018, 0.00573055, 0.99998176],\n",
       "       [0.00181343, 0.00611387, 0.99997967],\n",
       "       [0.00185574, 0.00615046, 0.99997936],\n",
       "       [0.00182668, 0.00636729, 0.99997806],\n",
       "       [0.00180223, 0.00638503, 0.99997799],\n",
       "       [0.00184401, 0.00642768, 0.99997764],\n",
       "       [0.00197959, 0.00690027, 0.99997423],\n",
       "       [0.00202073, 0.00704369, 0.99997315],\n",
       "       [0.00199767, 0.00673499, 0.99997532],\n",
       "       [0.00212889, 0.00754235, 0.99996929],\n",
       "       [0.00248569, 0.00880645, 0.99995813],\n",
       "       [0.00243384, 0.00848368, 0.99996105]])"
      ]
     },
     "execution_count": 46,
     "metadata": {},
     "output_type": "execute_result"
    }
   ],
   "source": [
    "from sklearn import preprocessing\n",
    "\n",
    "preprocessing.normalize(data[['Interest_Rate', 'Unemployment_Rate','Stock_Index_Price']])"
   ]
  },
  {
   "cell_type": "code",
   "execution_count": 49,
   "metadata": {},
   "outputs": [
    {
     "data": {
      "text/plain": [
       "array([[ 1.97880334, -1.47026414,  1.90945173],\n",
       "       [ 1.24816826, -1.47026414,  1.57013727],\n",
       "       [ 1.24816826, -1.47026414,  1.39078534],\n",
       "       [ 1.24816826, -1.47026414,  1.08055498],\n",
       "       [ 1.24816826, -1.16073485,  0.90120305],\n",
       "       [ 1.24816826, -0.54167626,  0.89150835],\n",
       "       [ 1.24816826, -0.85120556,  0.79456136],\n",
       "       [ 0.51753318, -0.85120556,  0.60551473],\n",
       "       [ 0.51753318, -0.85120556,  0.43101015],\n",
       "       [ 0.51753318, -0.54167626,  0.46978895],\n",
       "       [-0.2131019 , -0.23214697,  0.29043702],\n",
       "       [-0.2131019 ,  0.38691162,  0.0238328 ],\n",
       "       [-0.2131019 ,  0.69644091, -0.11189298],\n",
       "       [-0.94373698,  0.38691162, -0.50937564],\n",
       "       [-0.94373698,  0.07738232, -0.61601732],\n",
       "       [-0.94373698,  1.0059702 , -0.54330708],\n",
       "       [-0.94373698,  1.3154995 , -0.48029154],\n",
       "       [-0.94373698,  1.0059702 , -0.58693323],\n",
       "       [-0.94373698,  1.0059702 , -0.90201094],\n",
       "       [-0.94373698,  1.0059702 , -0.98926323],\n",
       "       [-0.94373698,  0.38691162, -0.94078974],\n",
       "       [-0.94373698,  1.3154995 , -1.20254661],\n",
       "       [-0.94373698,  1.3154995 , -1.77453384],\n",
       "       [-0.94373698,  1.0059702 , -1.7018236 ]])"
      ]
     },
     "execution_count": 49,
     "metadata": {},
     "output_type": "execute_result"
    }
   ],
   "source": [
    "preprocessing.scale(data[['Interest_Rate', 'Unemployment_Rate','Stock_Index_Price']])"
   ]
  },
  {
   "cell_type": "code",
   "execution_count": null,
   "metadata": {},
   "outputs": [],
   "source": []
  }
 ],
 "metadata": {
  "kernelspec": {
   "display_name": "Python 3",
   "language": "python",
   "name": "python3"
  },
  "language_info": {
   "codemirror_mode": {
    "name": "ipython",
    "version": 3
   },
   "file_extension": ".py",
   "mimetype": "text/x-python",
   "name": "python",
   "nbconvert_exporter": "python",
   "pygments_lexer": "ipython3",
   "version": "3.7.4"
  }
 },
 "nbformat": 4,
 "nbformat_minor": 2
}
