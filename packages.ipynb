{
 "cells": [
  {
   "cell_type": "code",
   "execution_count": 1,
   "metadata": {},
   "outputs": [],
   "source": [
    "import spacy"
   ]
  },
  {
   "cell_type": "code",
   "execution_count": 2,
   "metadata": {},
   "outputs": [],
   "source": [
    "nlp=spacy.load(\"en_core_web_sm\")"
   ]
  },
  {
   "cell_type": "code",
   "execution_count": 3,
   "metadata": {},
   "outputs": [],
   "source": [
    "string=\"Sachin Ramesh Tendulkar is an Indian former international cricketer and a former captain of the Indian national team. He is widely regarded as one of the greatest batsmen in the history of cricket.\" "
   ]
  },
  {
   "cell_type": "code",
   "execution_count": 4,
   "metadata": {},
   "outputs": [],
   "source": [
    "doc=nlp(string)"
   ]
  },
  {
   "cell_type": "code",
   "execution_count": 5,
   "metadata": {},
   "outputs": [
    {
     "name": "stdout",
     "output_type": "stream",
     "text": [
      "Sachin Ramesh Tendulkar is an Indian former international cricketer and a former captain of the Indian national team.\n",
      "He is widely regarded as one of the greatest batsmen in the history of cricket.\n"
     ]
    }
   ],
   "source": [
    "for sent in doc.sents:\n",
    "    print(sent)"
   ]
  },
  {
   "cell_type": "code",
   "execution_count": 7,
   "metadata": {},
   "outputs": [
    {
     "name": "stdout",
     "output_type": "stream",
     "text": [
      "Indian NORP\n",
      "Indian NORP\n"
     ]
    }
   ],
   "source": [
    "for ent in doc.ents:\n",
    "    print(ent,ent.label_)"
   ]
  },
  {
   "cell_type": "code",
   "execution_count": 8,
   "metadata": {},
   "outputs": [],
   "source": [
    "string = \"I am Manoj. I work in TCS, which is located in Chennai, India. In the north of Inida the river Ganges flows through almost every state\""
   ]
  },
  {
   "cell_type": "code",
   "execution_count": 9,
   "metadata": {},
   "outputs": [],
   "source": [
    "doc1 = nlp(string)"
   ]
  },
  {
   "cell_type": "code",
   "execution_count": 10,
   "metadata": {},
   "outputs": [
    {
     "name": "stdout",
     "output_type": "stream",
     "text": [
      "TCS ORG\n",
      "Chennai GPE\n",
      "India GPE\n",
      "Inida GPE\n",
      "Ganges ORG\n"
     ]
    }
   ],
   "source": [
    "for ent in doc1.ents:\n",
    "    print(ent, ent.label_)"
   ]
  },
  {
   "cell_type": "code",
   "execution_count": 16,
   "metadata": {},
   "outputs": [],
   "source": [
    "String2 = \"CTS is firing 10000 mid to senior level employees from the organisation from 1/12/2020\""
   ]
  },
  {
   "cell_type": "code",
   "execution_count": 17,
   "metadata": {},
   "outputs": [],
   "source": [
    "doc3 = nlp(String2)"
   ]
  },
  {
   "cell_type": "code",
   "execution_count": 18,
   "metadata": {},
   "outputs": [
    {
     "name": "stdout",
     "output_type": "stream",
     "text": [
      "CTS ORG\n",
      "10000 CARDINAL\n"
     ]
    }
   ],
   "source": [
    "for ent in doc3.ents:\n",
    "    print(ent, ent.label_)"
   ]
  },
  {
   "cell_type": "code",
   "execution_count": 14,
   "metadata": {},
   "outputs": [],
   "source": [
    "def apply_spacy(x):\n",
    "    empty_list= []\n",
    "    doc = nlp(x)\n",
    "    for ent in doc.ents:\n",
    "        empty_list.append(ent)\n",
    "    return empty_list"
   ]
  },
  {
   "cell_type": "code",
   "execution_count": 19,
   "metadata": {},
   "outputs": [
    {
     "name": "stdout",
     "output_type": "stream",
     "text": [
      "CTS PROPN NNP\n",
      "is AUX VBZ\n",
      "firing VERB VBG\n",
      "10000 NUM CD\n",
      "mid NOUN NN\n",
      "to ADP IN\n",
      "senior ADJ JJ\n",
      "level NOUN NN\n",
      "employees NOUN NNS\n",
      "from ADP IN\n",
      "the DET DT\n",
      "organisation NOUN NN\n",
      "from ADP IN\n",
      "1/12/2020 NUM CD\n"
     ]
    }
   ],
   "source": [
    "for token in doc3:\n",
    "    print(token,  token.pos_, token.tag_)"
   ]
  },
  {
   "cell_type": "code",
   "execution_count": 20,
   "metadata": {},
   "outputs": [
    {
     "name": "stdout",
     "output_type": "stream",
     "text": [
      "Sachin PROPN NNP\n",
      "Ramesh PROPN NNP\n",
      "Tendulkar PROPN NNP\n",
      "is AUX VBZ\n",
      "an DET DT\n",
      "Indian ADJ JJ\n",
      "former ADJ JJ\n",
      "international ADJ JJ\n",
      "cricketer NOUN NN\n",
      "and CCONJ CC\n",
      "a DET DT\n",
      "former ADJ JJ\n",
      "captain NOUN NN\n",
      "of ADP IN\n",
      "the DET DT\n",
      "Indian ADJ JJ\n",
      "national ADJ JJ\n",
      "team NOUN NN\n",
      ". PUNCT .\n",
      "He PRON PRP\n",
      "is AUX VBZ\n",
      "widely ADV RB\n",
      "regarded VERB VBN\n",
      "as SCONJ IN\n",
      "one NUM CD\n",
      "of ADP IN\n",
      "the DET DT\n",
      "greatest ADJ JJS\n",
      "batsmen NOUN NNS\n",
      "in ADP IN\n",
      "the DET DT\n",
      "history NOUN NN\n",
      "of ADP IN\n",
      "cricket NOUN NN\n",
      ". PUNCT .\n"
     ]
    }
   ],
   "source": [
    "for token in doc:\n",
    "    print(token,token.pos_,token.tag_)"
   ]
  },
  {
   "cell_type": "code",
   "execution_count": null,
   "metadata": {},
   "outputs": [],
   "source": []
  }
 ],
 "metadata": {
  "kernelspec": {
   "display_name": "Python 3",
   "language": "python",
   "name": "python3"
  },
  "language_info": {
   "codemirror_mode": {
    "name": "ipython",
    "version": 3
   },
   "file_extension": ".py",
   "mimetype": "text/x-python",
   "name": "python",
   "nbconvert_exporter": "python",
   "pygments_lexer": "ipython3",
   "version": "3.7.4"
  }
 },
 "nbformat": 4,
 "nbformat_minor": 2
}
